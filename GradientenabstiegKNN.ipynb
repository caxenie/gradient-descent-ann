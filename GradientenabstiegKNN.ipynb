{
 "cells": [
  {
   "cell_type": "markdown",
   "metadata": {
    "slideshow": {
     "slide_type": "slide"
    }
   },
   "source": [
    "<h1><center>Einsatz von Gradientenabstiegsverfahren in Neuronalen Netzen</center></h1> "
   ]
  },
  {
   "cell_type": "markdown",
   "metadata": {
    "slideshow": {
     "slide_type": "slide"
    }
   },
   "source": [
    "# Inhalt\n",
    "\n",
    "- Grundlagen der Optimierung\n",
    "- Gradientenabstieg\n",
    "- Lernen als Optimierung in Neuronalen Netzen\n",
    "- Gradientenabstieg in Neuronalen Netzen\n",
    "- Fazit"
   ]
  },
  {
   "cell_type": "markdown",
   "metadata": {
    "slideshow": {
     "slide_type": "slide"
    }
   },
   "source": [
    "# Grundlagen der Optimierung"
   ]
  },
  {
   "cell_type": "markdown",
   "metadata": {
    "cell_style": "split",
    "slideshow": {
     "slide_type": "fragment"
    }
   },
   "source": [
    "\n",
    "**Optimierungsalgorithmen** sind in der Regel **iterative Verfahren**. \n",
    "\n",
    "Ausgehend von einem gegebenen Punkt $ {x_0 \\color{red}{+}} $ erzeugen sie eine Folge ${x_k}$ von **Iterierten**, die zu einer Lösung ($\\color{red}{\\bullet}$) **konvergieren** [2].\n"
   ]
  },
  {
   "cell_type": "markdown",
   "metadata": {
    "cell_style": "split",
    "slideshow": {
     "slide_type": "fragment"
    }
   },
   "source": [
    "<center>![](./optimization.gif)</center>"
   ]
  },
  {
   "cell_type": "markdown",
   "metadata": {
    "slideshow": {
     "slide_type": "slide"
    }
   },
   "source": [
    "# Grundlagen der Optimierung\n",
    "### Optimierung nullter Ordnung\n",
    "<center>![](./backprop-sketch/opt-types1-notext.png)</center>"
   ]
  },
  {
   "cell_type": "markdown",
   "metadata": {
    "slideshow": {
     "slide_type": "slide"
    }
   },
   "source": [
    "# Grundlagen der Optimierung\n",
    "### Optimierung erster Ordnung\n",
    "<center>![](./backprop-sketch/opt-types2-notext-single.png)</center>"
   ]
  },
  {
   "cell_type": "markdown",
   "metadata": {
    "slideshow": {
     "slide_type": "slide"
    }
   },
   "source": [
    "# Grundlagen der Optimierung\n",
    "### Optimierung zweiter Ordnung\n",
    "<center>![](./backprop-sketch/opt-types3-notext-single.png)</center>"
   ]
  },
  {
   "cell_type": "markdown",
   "metadata": {
    "slideshow": {
     "slide_type": "slide"
    }
   },
   "source": [
    "# Gradientenabstieg"
   ]
  },
  {
   "cell_type": "markdown",
   "metadata": {
    "slideshow": {
     "slide_type": "fragment"
    }
   },
   "source": [
    "<center>![](./backprop-sketch/gradient-descent-fig.png)</center>\n"
   ]
  },
  {
   "cell_type": "markdown",
   "metadata": {
    "slideshow": {
     "slide_type": "slide"
    }
   },
   "source": [
    "# Lernen als Optimierung in Neuronale Netzen"
   ]
  },
  {
   "cell_type": "markdown",
   "metadata": {
    "cell_style": "split",
    "slideshow": {
     "slide_type": "fragment"
    }
   },
   "source": [
    "Optimierungsalgorithmen helfen uns, eine **Zielfunktion zu minimieren (oder zu maximieren)**. Ein solche Zielfunktion ist in **neuronalen Netzen** eine **mathematische Funktion (E)**, die von den **internen lernbaren Parametern (W)** des Netzwerks abhängt [3].\n",
    "\n",
    "Diese **Parametern** werden bei der Berechnung der **erwarteten Werte (Y)** aus dem Satz von **Prädiktoren (X)** benutzt. \n",
    "\n",
    "**E** beschreibt die Differenz zwischen dem erwarteten Wert und dem **tatsächlichen Netzwerkausgangswert (O)** [1]."
   ]
  },
  {
   "cell_type": "markdown",
   "metadata": {
    "cell_style": "split",
    "slideshow": {
     "slide_type": "fragment"
    }
   },
   "source": [
    "<center>![](./backprop-sketch/basic-net.gif)</center>"
   ]
  },
  {
   "cell_type": "markdown",
   "metadata": {
    "slideshow": {
     "slide_type": "slide"
    }
   },
   "source": [
    "# Gradientenabstieg in Neuronale Netzen"
   ]
  },
  {
   "cell_type": "markdown",
   "metadata": {
    "slideshow": {
     "slide_type": "fragment"
    }
   },
   "source": [
    "### Binäre Klassifikation mit neuronalen Netzen\n",
    "\n",
    "<center>![](./backprop-sketch/hausaufgabe.png)</center>\n"
   ]
  },
  {
   "cell_type": "markdown",
   "metadata": {
    "slideshow": {
     "slide_type": "slide"
    }
   },
   "source": [
    "<center>![](./backprop-sketch/1.gif>)</center>"
   ]
  },
  {
   "cell_type": "markdown",
   "metadata": {
    "slideshow": {
     "slide_type": "slide"
    }
   },
   "source": [
    "<center>![](./backprop-sketch/2.gif>)</center>"
   ]
  },
  {
   "cell_type": "markdown",
   "metadata": {
    "slideshow": {
     "slide_type": "slide"
    }
   },
   "source": [
    "<center>![](./backprop-sketch/3.gif>)</center>"
   ]
  },
  {
   "cell_type": "markdown",
   "metadata": {
    "slideshow": {
     "slide_type": "slide"
    }
   },
   "source": [
    "<center>![](./backprop-sketch/4.gif>)</center>"
   ]
  },
  {
   "cell_type": "markdown",
   "metadata": {
    "slideshow": {
     "slide_type": "slide"
    }
   },
   "source": [
    "<center>![](./backprop-sketch/5.gif>)</center>"
   ]
  },
  {
   "cell_type": "markdown",
   "metadata": {
    "slideshow": {
     "slide_type": "slide"
    }
   },
   "source": [
    "<center>![](./backprop-sketch/6.gif>)</center>"
   ]
  },
  {
   "cell_type": "markdown",
   "metadata": {
    "slideshow": {
     "slide_type": "slide"
    }
   },
   "source": [
    "<center>![](./backprop-sketch/7.gif>)</center>"
   ]
  },
  {
   "cell_type": "markdown",
   "metadata": {
    "slideshow": {
     "slide_type": "slide"
    }
   },
   "source": [
    "<center>![](./backprop-sketch/8.gif>)</center>"
   ]
  },
  {
   "cell_type": "markdown",
   "metadata": {
    "slideshow": {
     "slide_type": "slide"
    }
   },
   "source": [
    "<center>![](./backprop-sketch/9.gif>)</center>"
   ]
  },
  {
   "cell_type": "markdown",
   "metadata": {
    "slideshow": {
     "slide_type": "slide"
    }
   },
   "source": [
    "<center>![](./backprop-sketch/10.gif>)</center>"
   ]
  },
  {
   "cell_type": "markdown",
   "metadata": {
    "slideshow": {
     "slide_type": "slide"
    }
   },
   "source": [
    "<center>![](./backprop-sketch/11.gif>)</center>"
   ]
  },
  {
   "cell_type": "markdown",
   "metadata": {
    "slideshow": {
     "slide_type": "slide"
    }
   },
   "source": [
    "<center>![](./backprop-sketch/12.gif>)</center>"
   ]
  },
  {
   "cell_type": "markdown",
   "metadata": {
    "slideshow": {
     "slide_type": "slide"
    }
   },
   "source": [
    "<center>![](./backprop-sketch/13.gif>)</center>"
   ]
  },
  {
   "cell_type": "markdown",
   "metadata": {
    "cell_style": "center",
    "slideshow": {
     "slide_type": "slide"
    }
   },
   "source": [
    "<center>![](./backprop-sketch/14.gif)</center>"
   ]
  },
  {
   "cell_type": "markdown",
   "metadata": {
    "cell_style": "center",
    "slideshow": {
     "slide_type": "slide"
    }
   },
   "source": [
    "# Implementierung"
   ]
  },
  {
   "cell_type": "code",
   "execution_count": null,
   "metadata": {
    "cell_style": "center",
    "code_folding": [
     0,
     10,
     14,
     24,
     50,
     69,
     124,
     199
    ],
    "slideshow": {
     "slide_type": "fragment"
    }
   },
   "outputs": [
    {
     "data": {
      "image/png": "[encoded data removed]",
      "text/plain": [
       "<matplotlib.figure.Figure at 0x120b2648588>"
      ]
     },
     "metadata": {
      "needs_background": "light"
     },
     "output_type": "display_data"
    },
    {
     "name": "stdout",
     "output_type": "stream",
     "text": [
      "NN AUC=1.000\n"
     ]
    }
   ],
   "source": [
    "# Einfaches neuronales Netz zur binären Klassifikation\n",
    "import random\n",
    "import math\n",
    "import time as t\n",
    "import numpy as np\n",
    "import matplotlib.pyplot as plt\n",
    "import matplotlib.image as mpimg\n",
    "\n",
    "%matplotlib inline\n",
    "\n",
    "def f(x):\n",
    "    return math.tanh(x)\n",
    "\n",
    "\n",
    "def df(x):\n",
    "    try:\n",
    "        return 1 / (math.cosh(x) ** 2)\n",
    "    except OverflowError:\n",
    "        return 0\n",
    "\n",
    "\n",
    "class Network:\n",
    "    \n",
    "\n",
    "    def __init__(self, l_in, l_hid, l_out, rate=0.05):\n",
    "        self.num_layer_in = l_in\n",
    "        self.num_layer_hid = l_hid\n",
    "        self.num_layer_out = l_out\n",
    "\n",
    "        self.w1 = []\n",
    "        self.w2 = []\n",
    "\n",
    "        # init weights inputs -> hidden\n",
    "        for i in range(self.num_layer_in * self.num_layer_hid ):\n",
    "            self.w1.append(random.randrange(-10, 10) * 0.01)\n",
    "\n",
    "        # init weights hidden -> output\n",
    "        for i in range(self.num_layer_hid * self.num_layer_out):\n",
    "            self.w2.append(random.randrange(-10, 10) * 0.01)\n",
    "\n",
    "        # init weights bias -> hidden\n",
    "        for i in range(self.num_layer_hid):\n",
    "            self.w1.append(random.randrange(-10, 10) * 0.01)\n",
    "\n",
    "        # init weights bias -> output\n",
    "        for i in range(self.num_layer_out):\n",
    "            self.w2.append(random.randrange(-10, 10) * 0.01)\n",
    "\n",
    "        self.learning_rate = rate\n",
    "\n",
    "    def forward_propagation(self, data_in):\n",
    "        net_hid = 0\n",
    "        out_hid = []\n",
    "        net_out = 0\n",
    "\n",
    "        # Calculate net input and outputs for hidden layer\n",
    "        for i in range(self.num_layer_hid):\n",
    "            net_hid += float(data_in[0]) * self.w1[i]\n",
    "            net_hid += float(data_in[1]) * self.w1[i + self.num_layer_hid]\n",
    "            net_hid += self.w1[i + self.num_layer_in * self.num_layer_hid]\n",
    "            out_hid.append(f(net_hid))\n",
    "\n",
    "        # Calculate net input and output for output layer\n",
    "        for i in range(self.num_layer_hid):\n",
    "            net_out += out_hid[i] * self.w2[i]\n",
    "        net_out += self.w2[self.num_layer_hid * self.num_layer_out]\n",
    "\n",
    "        return f(net_out)\n",
    "\n",
    "    def train(self, train_data):\n",
    "        for data in train_data:\n",
    "            net_hid = []\n",
    "            out_hid = []\n",
    "            net_out = 0\n",
    "            out_out = 0\n",
    "\n",
    "            updates_w1 = []\n",
    "            updates_w2 = []\n",
    "\n",
    "            # Calculate net input and outputs for hidden layer\n",
    "            net = 0\n",
    "            for i in range(self.num_layer_hid):\n",
    "                net += float(data[0]) * self.w1[i]\n",
    "                net += float(data[1]) * self.w1[i + self.num_layer_hid]\n",
    "                net += self.w1[i + self.num_layer_in * self.num_layer_hid]\n",
    "                net_hid.append(net)\n",
    "                out_hid.append(f(net))\n",
    "\n",
    "            # Calculate net input and output for output layer\n",
    "            net = 0\n",
    "            for i in range(self.num_layer_hid):\n",
    "                net += out_hid[i] * self.w2[i]\n",
    "            net += self.w2[self.num_layer_hid * self.num_layer_out]\n",
    "            net_out = net\n",
    "            out_out = f(net)\n",
    "\n",
    "            # w2 weights update\n",
    "            for i in range(len(self.w2)):\n",
    "                if i < len(self.w2) - self.num_layer_out:\n",
    "                    update = self.learning_rate * (float(data[2]) - out_out) * df(net_out) * out_hid[i]\n",
    "                else:\n",
    "                    update = self.learning_rate * (float(data[2]) - out_out) * df(net_out)\n",
    "                updates_w2.append(update)\n",
    "\n",
    "            # w1 weights update\n",
    "            for i in range(len(self.w1)):\n",
    "                if i < len(self.w1) - self.num_layer_hid:\n",
    "                    if i < 4:\n",
    "                        update = self.learning_rate * (float(data[2]) - out_out) * df(net_out) * self.w2[i % 4] * df(net_hid[i % 4]) * float(data[0])\n",
    "                    else:\n",
    "                        update = self.learning_rate * (float(data[2]) - out_out) * df(net_out) * self.w2[i % 4] * df(net_hid[i % 4]) * float(data[1])\n",
    "                else:\n",
    "                    update = self.learning_rate * (float(data[2]) - out_out) * df(net_out) * self.w2[i % 4] * df(net_hid[i % 4])\n",
    "                updates_w1.append(update)\n",
    "\n",
    "            # update weights w1\n",
    "            for i, update in enumerate(updates_w1):\n",
    "                self.w1[i] += update\n",
    "\n",
    "            # update weights w2\n",
    "            for i, update in enumerate(updates_w2):\n",
    "                self.w2[i] += update\n",
    "\n",
    "\n",
    "def main():\n",
    "    network = Network(2, 5, 1)\n",
    "    train_data = []\n",
    "    f = open('./input_dataset.in')\n",
    "\n",
    "    try:\n",
    "\n",
    "        while 1: \n",
    "            new_in = f.readline().split(',')\n",
    "            if len(new_in) < 3:\n",
    "                break\n",
    "            train_data.append(new_in)\n",
    "            \n",
    "\n",
    "        for _ in range(100):\n",
    "            network.train(train_data)\n",
    "\n",
    "        f = open('./testing_dataset.in')\n",
    "        out_data = []\n",
    "        test_data = []\n",
    "        out_data_prob = []\n",
    "        while 1:\n",
    "            new_in = f.readline().split(',')\n",
    "            if len(new_in) < 2:\n",
    "                break\n",
    "            new_in[0] = new_in[0][new_in[0].rfind(' ') + 1:]\n",
    "            new_in[1] = new_in[1][new_in[1].rfind(' ') + 1:]\n",
    "            output = network.forward_propagation(new_in)\n",
    "            test_data.append(new_in)\n",
    "            out_data_prob.append(output)\n",
    "            if output > 0:\n",
    "                output = '+1'\n",
    "            else:\n",
    "                output = '-1'\n",
    "            out_data.append(output)\n",
    "                \n",
    "        f = open('./expected_dataset.in')\n",
    "        out_expect_data = []\n",
    "        while 1:\n",
    "            new_in = f.readline().split('\\n')\n",
    "            if len(new_in) < 2:\n",
    "                break\n",
    "            out_expect_data.append(new_in[0])    \n",
    "\n",
    "    except EOFError:\n",
    "        print('', end='')\n",
    "        \n",
    "    plt.figure(3)\n",
    "    plt.plot(out_data, 'bo') \n",
    "    plt.plot(out_expect_data,'r+')\n",
    "    plt.title('Klassenlabels')\n",
    "    plt.box(\"off\")\n",
    "    plt.savefig('output-klass.png')\n",
    "    plt.show()\n",
    "\n",
    "    # AUC / ROC curves \n",
    "    from sklearn.metrics import roc_curve\n",
    "    from sklearn.metrics import roc_auc_score\n",
    "    from matplotlib import pyplot\n",
    "    lr_auc = roc_auc_score(list(map(int, out_expect_data)), out_data_prob)\n",
    "    # summarize scores\n",
    "    print('NN AUC=%.3f' % (lr_auc))\n",
    "    # calculate roc curves\n",
    "    lr_fpr, lr_tpr, _ = roc_curve(list(map(int, out_expect_data)), out_data_prob)\n",
    "    # plot the roc curve for the model\n",
    "    pyplot.plot(lr_fpr, lr_tpr, marker='.', label='ANN')\n",
    "    # axis labels\n",
    "    pyplot.xlabel('False Positive Rate')\n",
    "    pyplot.ylabel('True Positive Rate')\n",
    "    # show the legend\n",
    "    pyplot.legend()\n",
    "    pyplot.savefig('output-roc.png')\n",
    "    # show the plot\n",
    "    pyplot.show()\n",
    "\n",
    "if __name__ == '__main__':\n",
    "    main()"
   ]
  },
  {
   "cell_type": "markdown",
   "metadata": {
    "slideshow": {
     "slide_type": "slide"
    }
   },
   "source": [
    "# Analyse des Gradientenabstiegs"
   ]
  },
  {
   "cell_type": "markdown",
   "metadata": {
    "slideshow": {
     "slide_type": "fragment"
    }
   },
   "source": [
    "\n",
    "Abhängig von der Datenmenge machen wir einen **Kompromiss zwischen die Genauigkeit der Parameteraktualisierung und der Konvergenzgeschwindigkeit** [2, 4]."
   ]
  },
  {
   "cell_type": "markdown",
   "metadata": {
    "slideshow": {
     "slide_type": "slide"
    }
   },
   "source": [
    "# Analyse des Gradientenabstiegs : Genauigkeit\n",
    "\n",
    "<center>![](./precision.png)</center>"
   ]
  },
  {
   "cell_type": "markdown",
   "metadata": {
    "slideshow": {
     "slide_type": "slide"
    }
   },
   "source": [
    "# Analyse des Gradientenabstiegs : Konvergenzgeschwindigkeit\n",
    "\n",
    "<center>![](./gradient-problems.gif)</center>"
   ]
  },
  {
   "cell_type": "markdown",
   "metadata": {
    "slideshow": {
     "slide_type": "slide"
    }
   },
   "source": [
    "# Analyse des Gradientenabstiegs : Konvergenzgeschwindigkeit\n",
    "<center>![](./demo-anim.gif)</center>\n"
   ]
  },
  {
   "cell_type": "markdown",
   "metadata": {
    "slideshow": {
     "slide_type": "slide"
    }
   },
   "source": [
    "# Fazit\n",
    "\n",
    "- **Gradientenabstieg** ist die **typische Optimierungsmethode** in neuronalen Netzen.\n",
    "- **Lernen** in Neuronalen Netzen ist ein **iterativer Prozess**.\n",
    "- Bei der **Backpropagation** wird ein Gradientenabstieg verwendet, um zu einer **Lösung zu konvergieren** (d. h. die **Gewichte zu finden**), die die **Fehlerfunktion minimiert**.\n",
    "- **Gradientenabstieg** ist jedoch **problematisch** (Konvergenz, Präzision), aber es wurden viele **verbesserte Verfahren** entwickelt.\n",
    "- Das **Verständnis des Gradientenabstieg** bei der Diagnose der Backpropagation **ist für erfolgreiche Anwendungen erforderlich**."
   ]
  },
  {
   "cell_type": "markdown",
   "metadata": {
    "slideshow": {
     "slide_type": "slide"
    }
   },
   "source": [
    "# Literaturverzeichnis\n",
    "\n",
    "[1] https://google-developers.appspot.com/machine-learning/ (letzter Besuch, Dez 2019)\n",
    "\n",
    "[2] Boyd, S., & Vandenberghe, L. (2004). Convex optimization. Cambridge university press.\n",
    "\n",
    "[3] Goodfellow, I., Bengio, Y., & Courville, A. (2016). Deep learning. MIT press.\n",
    "\n",
    "[4] Ruder, S. (2016). An overview of gradient descent optimization algorithms. arXiv preprint arXiv:1609.04747."
   ]
  },
  {
   "cell_type": "markdown",
   "metadata": {
    "slideshow": {
     "slide_type": "slide"
    }
   },
   "source": [
    "# Vorlesung Notebook herunterladen\n",
    "\n",
    "<img src=\"./qrcode.png\" style=\"width = 200, height=200\"/>"
   ]
  },
  {
   "cell_type": "markdown",
   "metadata": {
    "slideshow": {
     "slide_type": "skip"
    }
   },
   "source": [
    "# Nachteile des Gradientenabstiegs\n",
    "\n",
    "Es wurden **verschiedene Methoden entwickelt**, um die Nechteile zum **beheben** [3]."
   ]
  },
  {
   "cell_type": "markdown",
   "metadata": {
    "slideshow": {
     "slide_type": "skip"
    }
   },
   "source": [
    "| Gradient Descent | Nesterov Momentum |  Adaptive Moment Estimation (Adam) | \n",
    "|:---------:|:---------:|:---------:|\n",
    "| $ w_{t+1} = w_t - {\\alpha} {\\nabla E(w_t)}$   |  $ w_{t+1} = w_t - {\\alpha} {v_t} \\\\ { v_{t+1} = \\frac{\\gamma}{\\alpha} v_t  + {\\nabla E(w_t - \\gamma v_t)}} $  | $ w_{t+1} = w_t -{\\alpha} {\\frac{m_t}{\\sqrt{{v_t}}}}  \\\\ {m_{t+1} = f(\\nabla E(w_t) ) \\\\ v_{t+1} = f(\\nabla E(w_t)^2) }$| \n",
    "| $\\color{green}{+} $ einfache Aktualisierungsregel (z. B. Summe, Produkt)  | $\\color{green}{+}$ Beschleunigt in die jeweilige Steigungsrichtung und dämpft Schwingungen | $\\color{green}{+}$ speichert einen exponentiell abfallenden Durchschnitt vergangener Gradienten (glättendes Moment) mit adaptiver Lernrate für jeden parameter |\n",
    "| $\\color{red} {-}$ Konvergiert zum globalen Minimum für konvexe Fehleroberflächen und zu einem lokalen Minimum für nichtkonvexe Oberflächen | $\\color{red}{-}$ funktioniert nicht gut, wenn die Kostenfunktionen stark konvex sind | $\\color{red}{-}$ hat den niedrigsten Trainingsfehler, aber nicht den niedrigsten Validierungsfehler, und der Validierungsfehler ist größer als der Trainingsfehler (d. h. leichte Überanpassung) |"
   ]
  },
  {
   "cell_type": "markdown",
   "metadata": {
    "slideshow": {
     "slide_type": "skip"
    }
   },
   "source": [
    "# Analyse\n",
    "<center>![](./loss-anim.gif)</center>"
   ]
  }
 ],
 "metadata": {
  "celltoolbar": "Slideshow",
  "kernelspec": {
   "display_name": "Python 3",
   "language": "python",
   "name": "python3"
  },
  "language_info": {
   "codemirror_mode": {
    "name": "ipython",
    "version": 3
   },
   "file_extension": ".py",
   "mimetype": "text/x-python",
   "name": "python",
   "nbconvert_exporter": "python",
   "pygments_lexer": "ipython3",
   "version": "3.6.2"
  },
  "toc": {
   "colors": {
    "hover_highlight": "#DAA520",
    "navigate_num": "#000000",
    "navigate_text": "#333333",
    "running_highlight": "#FF0000",
    "selected_highlight": "#FFD700",
    "sidebar_border": "#EEEEEE",
    "wrapper_background": "#FFFFFF"
   },
   "moveMenuLeft": true,
   "nav_menu": {
    "height": "30px",
    "width": "252px"
   },
   "navigate_menu": true,
   "number_sections": true,
   "sideBar": true,
   "threshold": 4,
   "toc_cell": false,
   "toc_section_display": "block",
   "toc_window_display": false,
   "widenNotebook": false
  },
  "varInspector": {
   "cols": {
    "lenName": 16,
    "lenType": 16,
    "lenVar": 40
   },
   "kernels_config": {
    "python": {
     "delete_cmd_postfix": "",
     "delete_cmd_prefix": "del ",
     "library": "var_list.py",
     "varRefreshCmd": "print(var_dic_list())"
    },
    "r": {
     "delete_cmd_postfix": ") ",
     "delete_cmd_prefix": "rm(",
     "library": "var_list.r",
     "varRefreshCmd": "cat(var_dic_list()) "
    }
   },
   "types_to_exclude": [
    "module",
    "function",
    "builtin_function_or_method",
    "instance",
    "_Feature"
   ],
   "window_display": false
  }
 },
 "nbformat": 4,
 "nbformat_minor": 2
}
